{
 "cells": [
  {
   "cell_type": "code",
   "execution_count": 1,
   "metadata": {},
   "outputs": [],
   "source": [
    "import os"
   ]
  },
  {
   "cell_type": "code",
   "execution_count": 2,
   "metadata": {},
   "outputs": [
    {
     "name": "stderr",
     "output_type": "stream",
     "text": [
      "'pwd' is not recognized as an internal or external command,\n",
      "operable program or batch file.\n"
     ]
    }
   ],
   "source": [
    "!pwd"
   ]
  },
  {
   "cell_type": "code",
   "execution_count": 3,
   "metadata": {},
   "outputs": [
    {
     "name": "stdout",
     "output_type": "stream",
     "text": [
      "git version 2.30.0.windows.1\n"
     ]
    }
   ],
   "source": [
    "!git --version"
   ]
  },
  {
   "cell_type": "code",
   "execution_count": 4,
   "metadata": {},
   "outputs": [
    {
     "ename": "FileNotFoundError",
     "evalue": "[WinError 3] The system cannot find the path specified: 'c:\\\\users\\\\desktop\\\\satish\\\\git_intro'",
     "output_type": "error",
     "traceback": [
      "\u001b[1;31m---------------------------------------------------------------------------\u001b[0m",
      "\u001b[1;31mFileNotFoundError\u001b[0m                         Traceback (most recent call last)",
      "\u001b[1;32m<ipython-input-4-141ec63b6460>\u001b[0m in \u001b[0;36m<module>\u001b[1;34m\u001b[0m\n\u001b[1;32m----> 1\u001b[1;33m \u001b[0mos\u001b[0m\u001b[1;33m.\u001b[0m\u001b[0mchdir\u001b[0m\u001b[1;33m(\u001b[0m\u001b[1;34m\"c:\\\\users\\\\desktop\\\\satish\\\\git_intro\"\u001b[0m\u001b[1;33m)\u001b[0m\u001b[1;33m\u001b[0m\u001b[1;33m\u001b[0m\u001b[0m\n\u001b[0m",
      "\u001b[1;31mFileNotFoundError\u001b[0m: [WinError 3] The system cannot find the path specified: 'c:\\\\users\\\\desktop\\\\satish\\\\git_intro'"
     ]
    }
   ],
   "source": [
    "os.chdir(\"c:\\\\users\\\\desktop\\\\satish\\\\git_intro\")"
   ]
  },
  {
   "cell_type": "code",
   "execution_count": 5,
   "metadata": {},
   "outputs": [],
   "source": [
    "os.chdir(\"C:\\\\Users\\\\satish\\\\Desktop\\\\git_intro\")"
   ]
  },
  {
   "cell_type": "code",
   "execution_count": 6,
   "metadata": {},
   "outputs": [
    {
     "name": "stderr",
     "output_type": "stream",
     "text": [
      "'pwd' is not recognized as an internal or external command,\n",
      "operable program or batch file.\n"
     ]
    }
   ],
   "source": [
    "!pwd"
   ]
  },
  {
   "cell_type": "code",
   "execution_count": 7,
   "metadata": {},
   "outputs": [
    {
     "name": "stdout",
     "output_type": "stream",
     "text": [
      " Volume in drive C has no label.\n",
      " Volume Serial Number is A8BB-EA2E\n",
      "\n",
      " Directory of C:\\Users\\satish\\Desktop\\git_intro\n",
      "\n",
      "03-Jan-21  08:35 AM    <DIR>          .\n",
      "03-Jan-21  08:35 AM    <DIR>          ..\n",
      "03-Jan-21  08:33 AM    <DIR>          .ipynb_checkpoints\n",
      "03-Jan-21  08:35 AM             2,437 Git.ipynb\n",
      "               1 File(s)          2,437 bytes\n",
      "               3 Dir(s)  19,380,641,792 bytes free\n"
     ]
    }
   ],
   "source": [
    "!dir"
   ]
  },
  {
   "cell_type": "code",
   "execution_count": 8,
   "metadata": {},
   "outputs": [
    {
     "data": {
      "text/plain": [
       "'C:\\\\Users\\\\satish\\\\Desktop\\\\git_intro'"
      ]
     },
     "execution_count": 8,
     "metadata": {},
     "output_type": "execute_result"
    }
   ],
   "source": [
    "pwd"
   ]
  },
  {
   "cell_type": "code",
   "execution_count": 9,
   "metadata": {},
   "outputs": [
    {
     "name": "stdout",
     "output_type": "stream",
     "text": [
      " Volume in drive C has no label.\n",
      " Volume Serial Number is A8BB-EA2E\n",
      "\n",
      " Directory of C:\\Users\\satish\\Desktop\\git_intro\n",
      "\n",
      "03-Jan-21  08:37 AM    <DIR>          .\n",
      "03-Jan-21  08:37 AM    <DIR>          ..\n",
      "03-Jan-21  08:33 AM    <DIR>          .ipynb_checkpoints\n",
      "03-Jan-21  08:37 AM             3,690 Git.ipynb\n",
      "               1 File(s)          3,690 bytes\n",
      "               3 Dir(s)  19,385,159,680 bytes free\n"
     ]
    }
   ],
   "source": [
    "ls"
   ]
  },
  {
   "cell_type": "code",
   "execution_count": 10,
   "metadata": {},
   "outputs": [
    {
     "data": {
      "text/plain": [
       "['.git', '.ipynb_checkpoints', 'Git.ipynb']"
      ]
     },
     "execution_count": 10,
     "metadata": {},
     "output_type": "execute_result"
    }
   ],
   "source": [
    "os.listdir()"
   ]
  },
  {
   "cell_type": "code",
   "execution_count": 11,
   "metadata": {},
   "outputs": [
    {
     "name": "stdout",
     "output_type": "stream",
     "text": [
      " Volume in drive C has no label.\n",
      " Volume Serial Number is A8BB-EA2E\n",
      "\n",
      " Directory of C:\\Users\\satish\\Desktop\\git_intro\\.git\n",
      "\n",
      "02-Jan-21  08:00 PM               130 config\n",
      "02-Jan-21  08:00 PM                73 description\n",
      "02-Jan-21  08:00 PM                23 HEAD\n",
      "02-Jan-21  08:00 PM    <DIR>          hooks\n",
      "02-Jan-21  08:00 PM    <DIR>          info\n",
      "02-Jan-21  08:00 PM    <DIR>          objects\n",
      "02-Jan-21  08:00 PM    <DIR>          refs\n",
      "               3 File(s)            226 bytes\n",
      "               4 Dir(s)  19,384,180,736 bytes free\n"
     ]
    }
   ],
   "source": [
    "ls .git"
   ]
  },
  {
   "cell_type": "code",
   "execution_count": 23,
   "metadata": {},
   "outputs": [
    {
     "name": "stderr",
     "output_type": "stream",
     "text": [
      "UsageError: %%writefile is a cell magic, but the cell body is empty.\n"
     ]
    }
   ],
   "source": [
    "%%writefile README.md"
   ]
  },
  {
   "cell_type": "code",
   "execution_count": 21,
   "metadata": {},
   "outputs": [
    {
     "name": "stdout",
     "output_type": "stream",
     "text": [
      " Volume in drive C has no label.\n",
      " Volume Serial Number is A8BB-EA2E\n",
      "\n",
      " Directory of C:\\Users\\satish\\Desktop\\git_intro\n",
      "\n",
      "03-Jan-21  08:47 AM    <DIR>          .\n",
      "03-Jan-21  08:47 AM    <DIR>          ..\n",
      "03-Jan-21  08:33 AM    <DIR>          .ipynb_checkpoints\n",
      "03-Jan-21  08:47 AM             6,307 Git.ipynb\n",
      "               1 File(s)          6,307 bytes\n",
      "               3 Dir(s)  19,379,994,624 bytes free\n"
     ]
    }
   ],
   "source": [
    "ls"
   ]
  },
  {
   "cell_type": "code",
   "execution_count": 24,
   "metadata": {},
   "outputs": [
    {
     "name": "stdout",
     "output_type": "stream",
     "text": [
      " Volume in drive C has no label.\n",
      " Volume Serial Number is A8BB-EA2E\n",
      "\n",
      " Directory of C:\\Users\\satish\\Desktop\\git_intro\n",
      "\n",
      "03-Jan-21  09:11 AM    <DIR>          .\n",
      "03-Jan-21  09:11 AM    <DIR>          ..\n",
      "03-Jan-21  08:33 AM    <DIR>          .ipynb_checkpoints\n",
      "03-Jan-21  08:57 AM             7,077 Git.ipynb\n",
      "03-Jan-21  09:11 AM                16 README.md\n",
      "               2 File(s)          7,093 bytes\n",
      "               3 Dir(s)  19,372,867,584 bytes free\n"
     ]
    }
   ],
   "source": [
    "ls\n"
   ]
  },
  {
   "cell_type": "code",
   "execution_count": 26,
   "metadata": {},
   "outputs": [
    {
     "name": "stdout",
     "output_type": "stream",
     "text": [
      "On branch master\n",
      "\n",
      "No commits yet\n",
      "\n",
      "Untracked files:\n",
      "  (use \"git add <file>...\" to include in what will be committed)\n",
      "\t.ipynb_checkpoints/\n",
      "\tGit.ipynb\n",
      "\tREADME.md\n",
      "\n",
      "nothing added to commit but untracked files present (use \"git add\" to track)\n"
     ]
    }
   ],
   "source": [
    "!git status"
   ]
  },
  {
   "cell_type": "code",
   "execution_count": 27,
   "metadata": {},
   "outputs": [],
   "source": [
    "!git add README.md"
   ]
  },
  {
   "cell_type": "code",
   "execution_count": 28,
   "metadata": {},
   "outputs": [
    {
     "name": "stdout",
     "output_type": "stream",
     "text": [
      "On branch master\n",
      "\n",
      "No commits yet\n",
      "\n",
      "Changes to be committed:\n",
      "  (use \"git rm --cached <file>...\" to unstage)\n",
      "\tnew file:   README.md\n",
      "\n",
      "Untracked files:\n",
      "  (use \"git add <file>...\" to include in what will be committed)\n",
      "\t.ipynb_checkpoints/\n",
      "\tGit.ipynb\n",
      "\n"
     ]
    }
   ],
   "source": [
    "!git status"
   ]
  },
  {
   "cell_type": "code",
   "execution_count": 45,
   "metadata": {},
   "outputs": [],
   "source": [
    "!notepad README.md"
   ]
  },
  {
   "cell_type": "code",
   "execution_count": 46,
   "metadata": {},
   "outputs": [
    {
     "name": "stdout",
     "output_type": "stream",
     "text": [
      "On branch master\n",
      "\n",
      "No commits yet\n",
      "\n",
      "Changes to be committed:\n",
      "  (use \"git rm --cached <file>...\" to unstage)\n",
      "\tnew file:   README.md\n",
      "\n",
      "Changes not staged for commit:\n",
      "  (use \"git add <file>...\" to update what will be committed)\n",
      "  (use \"git restore <file>...\" to discard changes in working directory)\n",
      "\tmodified:   README.md\n",
      "\n",
      "Untracked files:\n",
      "  (use \"git add <file>...\" to include in what will be committed)\n",
      "\t.ipynb_checkpoints/\n",
      "\tGit.ipynb\n",
      "\n"
     ]
    }
   ],
   "source": [
    "!git status"
   ]
  },
  {
   "cell_type": "code",
   "execution_count": 47,
   "metadata": {},
   "outputs": [
    {
     "name": "stderr",
     "output_type": "stream",
     "text": [
      "'cat' is not recognized as an internal or external command,\n",
      "operable program or batch file.\n"
     ]
    }
   ],
   "source": [
    "!cat README.md"
   ]
  },
  {
   "cell_type": "code",
   "execution_count": 48,
   "metadata": {},
   "outputs": [
    {
     "name": "stdout",
     "output_type": "stream",
     "text": [
      " Volume in drive C has no label.\n",
      " Volume Serial Number is A8BB-EA2E\n",
      "\n",
      " Directory of C:\\Users\\satish\\Desktop\\git_intro\n",
      "\n",
      "03-Jan-21  10:01 AM    <DIR>          .\n",
      "03-Jan-21  10:01 AM    <DIR>          ..\n",
      "03-Jan-21  08:33 AM    <DIR>          .ipynb_checkpoints\n",
      "03-Jan-21  10:01 AM            12,624 Git.ipynb\n",
      "03-Jan-21  10:01 AM               368 README.md\n",
      "               2 File(s)         12,992 bytes\n",
      "               3 Dir(s)  19,370,983,424 bytes free\n"
     ]
    }
   ],
   "source": [
    "ls"
   ]
  },
  {
   "cell_type": "code",
   "execution_count": 49,
   "metadata": {},
   "outputs": [
    {
     "name": "stdout",
     "output_type": "stream",
     "text": [
      "On branch master\n",
      "\n",
      "No commits yet\n",
      "\n",
      "Changes to be committed:\n",
      "  (use \"git rm --cached <file>...\" to unstage)\n",
      "\tnew file:   README.md\n",
      "\n",
      "Changes not staged for commit:\n",
      "  (use \"git add <file>...\" to update what will be committed)\n",
      "  (use \"git restore <file>...\" to discard changes in working directory)\n",
      "\tmodified:   README.md\n",
      "\n",
      "Untracked files:\n",
      "  (use \"git add <file>...\" to include in what will be committed)\n",
      "\t.ipynb_checkpoints/\n",
      "\tGit.ipynb\n",
      "\n"
     ]
    }
   ],
   "source": [
    "!git status"
   ]
  },
  {
   "cell_type": "code",
   "execution_count": 50,
   "metadata": {},
   "outputs": [
    {
     "name": "stdout",
     "output_type": "stream",
     "text": [
      "diff --git a/README.md b/README.md\n",
      "index f886bff..6c9845a 100644\n",
      "Binary files a/README.md and b/README.md differ\n"
     ]
    }
   ],
   "source": [
    "!git diff README.md"
   ]
  },
  {
   "cell_type": "code",
   "execution_count": 51,
   "metadata": {},
   "outputs": [],
   "source": [
    "!git add README.md"
   ]
  },
  {
   "cell_type": "code",
   "execution_count": 52,
   "metadata": {},
   "outputs": [
    {
     "name": "stdout",
     "output_type": "stream",
     "text": [
      "On branch master\n",
      "\n",
      "No commits yet\n",
      "\n",
      "Changes to be committed:\n",
      "  (use \"git rm --cached <file>...\" to unstage)\n",
      "\tnew file:   README.md\n",
      "\n",
      "Untracked files:\n",
      "  (use \"git add <file>...\" to include in what will be committed)\n",
      "\t.ipynb_checkpoints/\n",
      "\tGit.ipynb\n",
      "\n"
     ]
    }
   ],
   "source": [
    "!git status"
   ]
  },
  {
   "cell_type": "code",
   "execution_count": 57,
   "metadata": {},
   "outputs": [],
   "source": [
    "!notepad add.py"
   ]
  },
  {
   "cell_type": "code",
   "execution_count": 58,
   "metadata": {},
   "outputs": [
    {
     "name": "stdout",
     "output_type": "stream",
     "text": [
      " Volume in drive C has no label.\n",
      " Volume Serial Number is A8BB-EA2E\n",
      "\n",
      " Directory of C:\\Users\\satish\\Desktop\\git_intro\n",
      "\n",
      "03-Jan-21  10:09 AM    <DIR>          .\n",
      "03-Jan-21  10:09 AM    <DIR>          ..\n",
      "03-Jan-21  08:33 AM    <DIR>          .ipynb_checkpoints\n",
      "03-Jan-21  10:08 AM                69 add.py\n",
      "03-Jan-21  10:09 AM            13,520 Git.ipynb\n",
      "03-Jan-21  10:01 AM               368 README.md\n",
      "               3 File(s)         13,957 bytes\n",
      "               3 Dir(s)  19,371,966,464 bytes free\n"
     ]
    }
   ],
   "source": [
    "ls"
   ]
  },
  {
   "cell_type": "code",
   "execution_count": 62,
   "metadata": {},
   "outputs": [],
   "source": [
    "!git add ."
   ]
  },
  {
   "cell_type": "code",
   "execution_count": 63,
   "metadata": {},
   "outputs": [
    {
     "name": "stdout",
     "output_type": "stream",
     "text": [
      "On branch master\n",
      "\n",
      "No commits yet\n",
      "\n",
      "Changes to be committed:\n",
      "  (use \"git rm --cached <file>...\" to unstage)\n",
      "\tnew file:   .ipynb_checkpoints/Git-checkpoint.ipynb\n",
      "\tnew file:   Git.ipynb\n",
      "\tnew file:   README.md\n",
      "\tnew file:   add.py\n",
      "\n"
     ]
    }
   ],
   "source": [
    "!git status"
   ]
  },
  {
   "cell_type": "code",
   "execution_count": 66,
   "metadata": {},
   "outputs": [
    {
     "name": "stderr",
     "output_type": "stream",
     "text": [
      "'cat' is not recognized as an internal or external command,\n",
      "operable program or batch file.\n"
     ]
    }
   ],
   "source": [
    "!cat add.py"
   ]
  },
  {
   "cell_type": "code",
   "execution_count": 67,
   "metadata": {},
   "outputs": [
    {
     "name": "stderr",
     "output_type": "stream",
     "text": [
      "'cat' is not recognized as an internal or external command,\n",
      "operable program or batch file.\n"
     ]
    }
   ],
   "source": [
    "!cat add.py"
   ]
  },
  {
   "cell_type": "code",
   "execution_count": 68,
   "metadata": {},
   "outputs": [
    {
     "name": "stdout",
     "output_type": "stream",
     "text": [
      "On branch master\n",
      "\n",
      "No commits yet\n",
      "\n",
      "Changes to be committed:\n",
      "  (use \"git rm --cached <file>...\" to unstage)\n",
      "\tnew file:   .ipynb_checkpoints/Git-checkpoint.ipynb\n",
      "\tnew file:   Git.ipynb\n",
      "\tnew file:   README.md\n",
      "\tnew file:   add.py\n",
      "\n",
      "Changes not staged for commit:\n",
      "  (use \"git add <file>...\" to update what will be committed)\n",
      "  (use \"git restore <file>...\" to discard changes in working directory)\n",
      "\tmodified:   Git.ipynb\n",
      "\tmodified:   add.py\n",
      "\n"
     ]
    }
   ],
   "source": [
    "!git status"
   ]
  },
  {
   "cell_type": "code",
   "execution_count": 70,
   "metadata": {},
   "outputs": [],
   "source": [
    "!git add ."
   ]
  },
  {
   "cell_type": "code",
   "execution_count": 71,
   "metadata": {},
   "outputs": [
    {
     "name": "stdout",
     "output_type": "stream",
     "text": [
      "On branch master\n",
      "\n",
      "No commits yet\n",
      "\n",
      "Changes to be committed:\n",
      "  (use \"git rm --cached <file>...\" to unstage)\n",
      "\tnew file:   .ipynb_checkpoints/Git-checkpoint.ipynb\n",
      "\tnew file:   Git.ipynb\n",
      "\tnew file:   README.md\n",
      "\tnew file:   add.py\n",
      "\n"
     ]
    }
   ],
   "source": [
    "!git status"
   ]
  },
  {
   "cell_type": "code",
   "execution_count": 75,
   "metadata": {},
   "outputs": [
    {
     "name": "stderr",
     "output_type": "stream",
     "text": [
      "Author identity unknown\n",
      "\n",
      "*** Please tell me who you are.\n",
      "\n",
      "Run\n",
      "\n",
      "  git config --global user.email \"you@example.com\"\n",
      "  git config --global user.name \"Your Name\"\n",
      "\n",
      "to set your account's default identity.\n",
      "Omit --global to set the identity only in this repository.\n",
      "\n",
      "fatal: unable to auto-detect email address (got 'satish@SATISH.(none)')\n"
     ]
    }
   ],
   "source": [
    "!git commit -m \"added a file add.py to add addition feature to our project\""
   ]
  },
  {
   "cell_type": "code",
   "execution_count": 76,
   "metadata": {},
   "outputs": [
    {
     "name": "stderr",
     "output_type": "stream",
     "text": [
      "usage: git config [<options>]\n",
      "\n",
      "Config file location\n",
      "    --global              use global config file\n",
      "    --system              use system config file\n",
      "    --local               use repository config file\n",
      "    --worktree            use per-worktree config file\n",
      "    -f, --file <file>     use given config file\n",
      "    --blob <blob-id>      read config from given blob object\n",
      "\n",
      "Action\n",
      "    --get                 get value: name [value-pattern]\n",
      "    --get-all             get all values: key [value-pattern]\n",
      "    --get-regexp          get values for regexp: name-regex [value-pattern]\n",
      "    --get-urlmatch        get value specific for the URL: section[.var] URL\n",
      "    --replace-all         replace all matching variables: name value [value-pattern]\n",
      "    --add                 add a new variable: name value\n",
      "    --unset               remove a variable: name [value-pattern]\n",
      "    --unset-all           remove all matches: name [value-pattern]\n",
      "    --rename-section      rename section: old-name new-name\n",
      "    --remove-section      remove a section: name\n",
      "    -l, --list            list all\n",
      "    --fixed-value         use string equality when comparing values to 'value-pattern'\n",
      "    -e, --edit            open an editor\n",
      "    --get-color           find the color configured: slot [default]\n",
      "    --get-colorbool       find the color setting: slot [stdout-is-tty]\n",
      "\n",
      "Type\n",
      "    -t, --type <>         value is given this type\n",
      "    --bool                value is \"true\" or \"false\"\n",
      "    --int                 value is decimal number\n",
      "    --bool-or-int         value is --bool or --int\n",
      "    --bool-or-str         value is --bool or string\n",
      "    --path                value is a path (file or directory name)\n",
      "    --expiry-date         value is an expiry date\n",
      "\n",
      "Other\n",
      "    -z, --null            terminate values with NUL byte\n",
      "    --name-only           show variable names only\n",
      "    --includes            respect include directives on lookup\n",
      "    --show-origin         show origin of config (file, standard input, blob, command line)\n",
      "    --show-scope          show scope of config (worktree, local, global, system, command)\n",
      "    --default <value>     with --get, use default value when missing entry\n",
      "\n"
     ]
    }
   ],
   "source": [
    "!git config"
   ]
  },
  {
   "cell_type": "code",
   "execution_count": 77,
   "metadata": {},
   "outputs": [],
   "source": [
    "!git tag"
   ]
  },
  {
   "cell_type": "code",
   "execution_count": 79,
   "metadata": {},
   "outputs": [
    {
     "name": "stderr",
     "output_type": "stream",
     "text": [
      "Author identity unknown\n",
      "\n",
      "*** Please tell me who you are.\n",
      "\n",
      "Run\n",
      "\n",
      "  git config --global user.email \"you@example.com\"\n",
      "  git config --global user.name \"Your Name\"\n",
      "\n",
      "to set your account's default identity.\n",
      "Omit --global to set the identity only in this repository.\n",
      "\n",
      "fatal: unable to auto-detect email address (got 'satish@SATISH.(none)')\n"
     ]
    }
   ],
   "source": [
    "!git commit -m \"added a file add.py to add addition feature to our project\""
   ]
  },
  {
   "cell_type": "code",
   "execution_count": 81,
   "metadata": {},
   "outputs": [
    {
     "name": "stderr",
     "output_type": "stream",
     "text": [
      "Author identity unknown\n",
      "\n",
      "*** Please tell me who you are.\n",
      "\n",
      "Run\n",
      "\n",
      "  git config --global user.email \"you@example.com\"\n",
      "  git config --global user.name \"Your Name\"\n",
      "\n",
      "to set your account's default identity.\n",
      "Omit --global to set the identity only in this repository.\n",
      "\n",
      "fatal: unable to auto-detect email address (got 'satish@SATISH.(none)')\n"
     ]
    }
   ],
   "source": [
    "!git commit -m \"satish\""
   ]
  },
  {
   "cell_type": "code",
   "execution_count": 82,
   "metadata": {},
   "outputs": [
    {
     "name": "stdout",
     "output_type": "stream",
     "text": [
      "On branch master\n",
      "Changes not staged for commit:\n",
      "  (use \"git add <file>...\" to update what will be committed)\n",
      "  (use \"git restore <file>...\" to discard changes in working directory)\n",
      "\tmodified:   Git.ipynb\n",
      "\n",
      "no changes added to commit (use \"git add\" and/or \"git commit -a\")\n"
     ]
    }
   ],
   "source": [
    "!git commit -m \"added a file add.py to add addition feature to our project\""
   ]
  },
  {
   "cell_type": "code",
   "execution_count": 83,
   "metadata": {},
   "outputs": [
    {
     "data": {
      "text/plain": [
       "'C:\\\\Users\\\\satish\\\\Desktop\\\\git_intro'"
      ]
     },
     "execution_count": 83,
     "metadata": {},
     "output_type": "execute_result"
    }
   ],
   "source": [
    "pwd"
   ]
  },
  {
   "cell_type": "code",
   "execution_count": 84,
   "metadata": {},
   "outputs": [
    {
     "name": "stdout",
     "output_type": "stream",
     "text": [
      "v.1.0\n"
     ]
    }
   ],
   "source": [
    "!git tag"
   ]
  },
  {
   "cell_type": "code",
   "execution_count": 85,
   "metadata": {},
   "outputs": [
    {
     "name": "stdout",
     "output_type": "stream",
     "text": [
      "tag v.1.0\n",
      "Tagger: satish swrnkar <satish.swrnkar@gmail.com>\n",
      "Date:   Sun Jan 3 11:08:42 2021 +0530\n",
      "\n",
      "  v.1.0 a add.py fiel is added to our project to perform addition\n",
      "\n",
      "commit 5df4114d81a42bbd47ea566f21a70a26a77f3978\n",
      "Author: satish swrnkar <satish.swrnkar@gmail.com>\n",
      "Date:   Sun Jan 3 11:03:14 2021 +0530\n",
      "\n",
      "    added a file add.py to add addition feature to our project\n",
      "\n",
      "diff --git a/.ipynb_checkpoints/Git-checkpoint.ipynb b/.ipynb_checkpoints/Git-checkpoint.ipynb\n",
      "new file mode 100644\n",
      "index 0000000..7fec515\n",
      "--- /dev/null\n",
      "+++ b/.ipynb_checkpoints/Git-checkpoint.ipynb\n",
      "@@ -0,0 +1,6 @@\n",
      "+{\n",
      "+ \"cells\": [],\n",
      "+ \"metadata\": {},\n",
      "+ \"nbformat\": 4,\n",
      "+ \"nbformat_minor\": 4\n",
      "+}\n",
      "diff --git a/Git.ipynb b/Git.ipynb\n",
      "new file mode 100644\n",
      "index 0000000..a31fadc\n",
      "--- /dev/null\n",
      "+++ b/Git.ipynb\n",
      "@@ -0,0 +1,675 @@\n",
      "+{\n",
      "+ \"cells\": [\n",
      "+  {\n",
      "+   \"cell_type\": \"code\",\n",
      "+   \"execution_count\": 1,\n",
      "+   \"metadata\": {},\n",
      "+   \"outputs\": [],\n",
      "+   \"source\": [\n",
      "+    \"import os\"\n",
      "+   ]\n",
      "+  },\n",
      "+  {\n",
      "+   \"cell_type\": \"code\",\n",
      "+   \"execution_count\": 2,\n",
      "+   \"metadata\": {},\n",
      "+   \"outputs\": [\n",
      "+    {\n",
      "+     \"name\": \"stderr\",\n",
      "+     \"output_type\": \"stream\",\n",
      "+     \"text\": [\n",
      "+      \"'pwd' is not recognized as an internal or external command,\\n\",\n",
      "+      \"operable program or batch file.\\n\"\n",
      "+     ]\n",
      "+    }\n",
      "+   ],\n",
      "+   \"source\": [\n",
      "+    \"!pwd\"\n",
      "+   ]\n",
      "+  },\n",
      "+  {\n",
      "+   \"cell_type\": \"code\",\n",
      "+   \"execution_count\": 3,\n",
      "+   \"metadata\": {},\n",
      "+   \"outputs\": [\n",
      "+    {\n",
      "+     \"name\": \"stdout\",\n",
      "+     \"output_type\": \"stream\",\n",
      "+     \"text\": [\n",
      "+      \"git version 2.30.0.windows.1\\n\"\n",
      "+     ]\n",
      "+    }\n",
      "+   ],\n",
      "+   \"source\": [\n",
      "+    \"!git --version\"\n",
      "+   ]\n",
      "+  },\n",
      "+  {\n",
      "+   \"cell_type\": \"code\",\n",
      "+   \"execution_count\": 4,\n",
      "+   \"metadata\": {},\n",
      "+   \"outputs\": [\n",
      "+    {\n",
      "+     \"ename\": \"FileNotFoundError\",\n",
      "+     \"evalue\": \"[WinError 3] The system cannot find the path specified: 'c:\\\\\\\\users\\\\\\\\desktop\\\\\\\\satish\\\\\\\\git_intro'\",\n",
      "+     \"output_type\": \"error\",\n",
      "+     \"traceback\": [\n",
      "+      \"\\u001b[1;31m---------------------------------------------------------------------------\\u001b[0m\",\n",
      "+      \"\\u001b[1;31mFileNotFoundError\\u001b[0m                         Traceback (most recent call last)\",\n",
      "+      \"\\u001b[1;32m<ipython-input-4-141ec63b6460>\\u001b[0m in \\u001b[0;36m<module>\\u001b[1;34m\\u001b[0m\\n\\u001b[1;32m----> 1\\u001b[1;33m \\u001b[0mos\\u001b[0m\\u001b[1;33m.\\u001b[0m\\u001b[0mchdir\\u001b[0m\\u001b[1;33m(\\u001b[0m\\u001b[1;34m\\\"c:\\\\\\\\users\\\\\\\\desktop\\\\\\\\satish\\\\\\\\git_intro\\\"\\u001b[0m\\u001b[1;33m)\\u001b[0m\\u001b[1;33m\\u001b[0m\\u001b[1;33m\\u001b[0m\\u001b[0m\\n\\u001b[0m\",\n",
      "+      \"\\u001b[1;31mFileNotFoundError\\u001b[0m: [WinError 3] The system cannot find the path specified: 'c:\\\\\\\\users\\\\\\\\desktop\\\\\\\\satish\\\\\\\\git_intro'\"\n",
      "+     ]\n",
      "+    }\n",
      "+   ],\n",
      "+   \"source\": [\n",
      "+    \"os.chdir(\\\"c:\\\\\\\\users\\\\\\\\desktop\\\\\\\\satish\\\\\\\\git_intro\\\")\"\n",
      "+   ]\n",
      "+  },\n",
      "+  {\n",
      "+   \"cell_type\": \"code\",\n",
      "+   \"execution_count\": 5,\n",
      "+   \"metadata\": {},\n",
      "+   \"outputs\": [],\n",
      "+   \"source\": [\n",
      "+    \"os.chdir(\\\"C:\\\\\\\\Users\\\\\\\\satish\\\\\\\\Desktop\\\\\\\\git_intro\\\")\"\n",
      "+   ]\n",
      "+  },\n",
      "+  {\n",
      "+   \"cell_type\": \"code\",\n",
      "+   \"execution_count\": 6,\n",
      "+   \"metadata\": {},\n",
      "+   \"outputs\": [\n",
      "+    {\n",
      "+     \"name\": \"stderr\",\n",
      "+     \"output_type\": \"stream\",\n",
      "+     \"text\": [\n",
      "+      \"'pwd' is not recognized as an internal or external command,\\n\",\n",
      "+      \"operable program or batch file.\\n\"\n",
      "+     ]\n",
      "+    }\n",
      "+   ],\n",
      "+   \"source\": [\n",
      "+    \"!pwd\"\n",
      "+   ]\n",
      "+  },\n",
      "+  {\n",
      "+   \"cell_type\": \"code\",\n",
      "+   \"execution_count\": 7,\n",
      "+   \"metadata\": {},\n",
      "+   \"outputs\": [\n",
      "+    {\n",
      "+     \"name\": \"stdout\",\n",
      "+     \"output_type\": \"stream\",\n",
      "+     \"text\": [\n",
      "+      \" Volume in drive C has no label.\\n\",\n",
      "+      \" Volume Serial Number is A8BB-EA2E\\n\",\n",
      "+      \"\\n\",\n",
      "+      \" Directory of C:\\\\Users\\\\satish\\\\Desktop\\\\git_intro\\n\",\n",
      "+      \"\\n\",\n",
      "+      \"03-Jan-21  08:35 AM    <DIR>          .\\n\",\n",
      "+      \"03-Jan-21  08:35 AM    <DIR>          ..\\n\",\n",
      "+      \"03-Jan-21  08:33 AM    <DIR>          .ipynb_checkpoints\\n\",\n",
      "+      \"03-Jan-21  08:35 AM             2,437 Git.ipynb\\n\",\n",
      "+      \"               1 File(s)          2,437 bytes\\n\",\n",
      "+      \"               3 Dir(s)  19,380,641,792 bytes free\\n\"\n",
      "+     ]\n",
      "+    }\n",
      "+   ],\n",
      "+   \"source\": [\n",
      "+    \"!dir\"\n",
      "+   ]\n",
      "+  },\n",
      "+  {\n",
      "+   \"cell_type\": \"code\",\n",
      "+   \"execution_count\": 8,\n",
      "+   \"metadata\": {},\n",
      "+   \"outputs\": [\n",
      "+    {\n",
      "+     \"data\": {\n",
      "+      \"text/plain\": [\n",
      "+       \"'C:\\\\\\\\Users\\\\\\\\satish\\\\\\\\Desktop\\\\\\\\git_intro'\"\n",
      "+      ]\n",
      "+     },\n",
      "+     \"execution_count\": 8,\n",
      "+     \"metadata\": {},\n",
      "+     \"output_type\": \"execute_result\"\n",
      "+    }\n",
      "+   ],\n",
      "+   \"source\": [\n",
      "+    \"pwd\"\n",
      "+   ]\n",
      "+  },\n",
      "+  {\n",
      "+   \"cell_type\": \"code\",\n",
      "+   \"execution_count\": 9,\n",
      "+   \"metadata\": {},\n",
      "+   \"outputs\": [\n",
      "+    {\n",
      "+     \"name\": \"stdout\",\n",
      "+     \"output_type\": \"stream\",\n",
      "+     \"text\": [\n",
      "+      \" Volume in drive C has no label.\\n\",\n",
      "+      \" Volume Serial Number is A8BB-EA2E\\n\",\n",
      "+      \"\\n\",\n",
      "+      \" Directory of C:\\\\Users\\\\satish\\\\Desktop\\\\git_intro\\n\",\n",
      "+      \"\\n\",\n",
      "+      \"03-Jan-21  08:37 AM    <DIR>          .\\n\",\n",
      "+      \"03-Jan-21  08:37 AM    <DIR>          ..\\n\",\n",
      "+      \"03-Jan-21  08:33 AM    <DIR>          .ipynb_checkpoints\\n\",\n",
      "+      \"03-Jan-21  08:37 AM             3,690 Git.ipynb\\n\",\n",
      "+      \"               1 File(s)          3,690 bytes\\n\",\n",
      "+      \"               3 Dir(s)  19,385,159,680 bytes free\\n\"\n",
      "+     ]\n",
      "+    }\n",
      "+   ],\n",
      "+   \"source\": [\n",
      "+    \"ls\"\n",
      "+   ]\n",
      "+  },\n",
      "+  {\n",
      "+   \"cell_type\": \"code\",\n",
      "+   \"execution_count\": 10,\n",
      "+   \"metadata\": {},\n",
      "+   \"outputs\": [\n",
      "+    {\n",
      "+     \"data\": {\n",
      "+      \"text/plain\": [\n",
      "+       \"['.git', '.ipynb_checkpoints', 'Git.ipynb']\"\n",
      "+      ]\n",
      "+     },\n",
      "+     \"execution_count\": 10,\n",
      "+     \"metadata\": {},\n",
      "+     \"output_type\": \"execute_result\"\n",
      "+    }\n",
      "+   ],\n",
      "+   \"source\": [\n",
      "+    \"os.listdir()\"\n",
      "+   ]\n",
      "+  },\n",
      "+  {\n",
      "+   \"cell_type\": \"code\",\n",
      "+   \"execution_count\": 11,\n",
      "+   \"metadata\": {},\n",
      "+   \"outputs\": [\n",
      "+    {\n",
      "+     \"name\": \"stdout\",\n",
      "+     \"output_type\": \"stream\",\n",
      "+     \"text\": [\n",
      "+      \" Volume in drive C has no label.\\n\",\n",
      "+      \" Volume Serial Number is A8BB-EA2E\\n\",\n",
      "+      \"\\n\",\n",
      "+      \" Directory of C:\\\\Users\\\\satish\\\\Desktop\\\\git_intro\\\\.git\\n\",\n",
      "+      \"\\n\",\n",
      "+      \"02-Jan-21  08:00 PM               130 config\\n\",\n",
      "+      \"02-Jan-21  08:00 PM                73 description\\n\",\n",
      "+      \"02-Jan-21  08:00 PM                23 HEAD\\n\",\n",
      "+      \"02-Jan-21  08:00 PM    <DIR>          hooks\\n\",\n",
      "+      \"02-Jan-21  08:00 PM    <DIR>          info\\n\",\n",
      "+      \"02-Jan-21  08:00 PM    <DIR>          objects\\n\",\n",
      "+      \"02-Jan-21  08:00 PM    <DIR>          refs\\n\",\n",
      "+      \"               3 File(s)            226 bytes\\n\",\n",
      "+      \"               4 Dir(s)  19,384,180,736 bytes free\\n\"\n",
      "+     ]\n",
      "+    }\n",
      "+   ],\n",
      "+   \"source\": [\n",
      "+    \"ls .git\"\n",
      "+   ]\n",
      "+  },\n",
      "+  {\n",
      "+   \"cell_type\": \"code\",\n",
      "+   \"execution_count\": 23,\n",
      "+   \"metadata\": {},\n",
      "+   \"outputs\": [\n",
      "+    {\n",
      "+     \"name\": \"stderr\",\n",
      "+     \"output_type\": \"stream\",\n",
      "+     \"text\": [\n",
      "+      \"UsageError: %%writefile is a cell magic, but the cell body is empty.\\n\"\n",
      "+     ]\n",
      "+    }\n",
      "+   ],\n",
      "+   \"source\": [\n",
      "+    \"%%writefile README.md\"\n",
      "+   ]\n",
      "+  },\n",
      "+  {\n",
      "+   \"cell_type\": \"code\",\n",
      "+   \"execution_count\": 21,\n",
      "+   \"metadata\": {},\n",
      "+   \"outputs\": [\n",
      "+    {\n",
      "+     \"name\": \"stdout\",\n",
      "+     \"output_type\": \"stream\",\n",
      "+     \"text\": [\n",
      "+      \" Volume in drive C has no label.\\n\",\n",
      "+      \" Volume Serial Number is A8BB-EA2E\\n\",\n",
      "+      \"\\n\",\n",
      "+      \" Directory of C:\\\\Users\\\\satish\\\\Desktop\\\\git_intro\\n\",\n",
      "+      \"\\n\",\n",
      "+      \"03-Jan-21  08:47 AM    <DIR>          .\\n\",\n",
      "+      \"03-Jan-21  08:47 AM    <DIR>          ..\\n\",\n",
      "+      \"03-Jan-21  08:33 AM    <DIR>          .ipynb_checkpoints\\n\",\n",
      "+      \"03-Jan-21  08:47 AM             6,307 Git.ipynb\\n\",\n",
      "+      \"               1 File(s)          6,307 bytes\\n\",\n",
      "+      \"               3 Dir(s)  19,379,994,624 bytes free\\n\"\n",
      "+     ]\n",
      "+    }\n",
      "+   ],\n",
      "+   \"source\": [\n",
      "+    \"ls\"\n",
      "+   ]\n",
      "+  },\n",
      "+  {\n",
      "+   \"cell_type\": \"code\",\n",
      "+   \"execution_count\": 24,\n",
      "+   \"metadata\": {},\n",
      "+   \"outputs\": [\n",
      "+    {\n",
      "+     \"name\": \"stdout\",\n",
      "+     \"output_type\": \"stream\",\n",
      "+     \"text\": [\n",
      "+      \" Volume in drive C has no label.\\n\",\n",
      "+      \" Volume Serial Number is A8BB-EA2E\\n\",\n",
      "+      \"\\n\",\n",
      "+      \" Directory of C:\\\\Users\\\\satish\\\\Desktop\\\\git_intro\\n\",\n",
      "+      \"\\n\",\n",
      "+      \"03-Jan-21  09:11 AM    <DIR>          .\\n\",\n",
      "+      \"03-Jan-21  09:11 AM    <DIR>          ..\\n\",\n",
      "+      \"03-Jan-21  08:33 AM    <DIR>          .ipynb_checkpoints\\n\",\n",
      "+      \"03-Jan-21  08:57 AM             7,077 Git.ipynb\\n\",\n",
      "+      \"03-Jan-21  09:11 AM                16 README.md\\n\",\n",
      "+      \"               2 File(s)          7,093 bytes\\n\",\n",
      "+      \"               3 Dir(s)  19,372,867,584 bytes free\\n\"\n",
      "+     ]\n",
      "+    }\n",
      "+   ],\n",
      "+   \"source\": [\n",
      "+    \"ls\\n\"\n",
      "+   ]\n",
      "+  },\n",
      "+  {\n",
      "+   \"cell_type\": \"code\",\n",
      "+   \"execution_count\": 26,\n",
      "+   \"metadata\": {},\n",
      "+   \"outputs\": [\n",
      "+    {\n",
      "+     \"name\": \"stdout\",\n",
      "+     \"output_type\": \"stream\",\n",
      "+     \"text\": [\n",
      "+      \"On branch master\\n\",\n",
      "+      \"\\n\",\n",
      "+      \"No commits yet\\n\",\n",
      "+      \"\\n\",\n",
      "+      \"Untracked files:\\n\",\n",
      "+      \"  (use \\\"git add <file>...\\\" to include in what will be committed)\\n\",\n",
      "+      \"\\t.ipynb_checkpoints/\\n\",\n",
      "+      \"\\tGit.ipynb\\n\",\n",
      "+      \"\\tREADME.md\\n\",\n",
      "+      \"\\n\",\n",
      "+      \"nothing added to commit but untracked files present (use \\\"git add\\\" to track)\\n\"\n",
      "+     ]\n",
      "+    }\n",
      "+   ],\n",
      "+   \"source\": [\n",
      "+    \"!git status\"\n",
      "+   ]\n",
      "+  },\n",
      "+  {\n",
      "+   \"cell_type\": \"code\",\n",
      "+   \"execution_count\": 27,\n",
      "+   \"metadata\": {},\n",
      "+   \"outputs\": [],\n",
      "+   \"source\": [\n",
      "+    \"!git add README.md\"\n",
      "+   ]\n",
      "+  },\n",
      "+  {\n",
      "+   \"cell_type\": \"code\",\n",
      "+   \"execution_count\": 28,\n",
      "+   \"metadata\": {},\n",
      "+   \"outputs\": [\n",
      "+    {\n",
      "+     \"name\": \"stdout\",\n",
      "+     \"output_type\": \"stream\",\n",
      "+     \"text\": [\n",
      "+      \"On branch master\\n\",\n",
      "+      \"\\n\",\n",
      "+      \"No commits yet\\n\",\n",
      "+      \"\\n\",\n",
      "+      \"Changes to be committed:\\n\",\n",
      "+      \"  (use \\\"git rm --cached <file>...\\\" to unstage)\\n\",\n",
      "+      \"\\tnew file:   README.md\\n\",\n",
      "+      \"\\n\",\n",
      "+      \"Untracked files:\\n\",\n",
      "+      \"  (use \\\"git add <file>...\\\" to include in what will be committed)\\n\",\n",
      "+      \"\\t.ipynb_checkpoints/\\n\",\n",
      "+      \"\\tGit.ipynb\\n\",\n",
      "+      \"\\n\"\n",
      "+     ]\n",
      "+    }\n",
      "+   ],\n",
      "+   \"source\": [\n",
      "+    \"!git status\"\n",
      "+   ]\n",
      "+  },\n",
      "+  {\n",
      "+   \"cell_type\": \"code\",\n",
      "+   \"execution_count\": 45,\n",
      "+   \"metadata\": {},\n",
      "+   \"outputs\": [],\n",
      "+   \"source\": [\n",
      "+    \"!notepad README.md\"\n",
      "+   ]\n",
      "+  },\n",
      "+  {\n",
      "+   \"cell_type\": \"code\",\n",
      "+   \"execution_count\": 46,\n",
      "+   \"metadata\": {},\n",
      "+   \"outputs\": [\n",
      "+    {\n",
      "+     \"name\": \"stdout\",\n",
      "+     \"output_type\": \"stream\",\n",
      "+     \"text\": [\n",
      "+      \"On branch master\\n\",\n",
      "+      \"\\n\",\n",
      "+      \"No commits yet\\n\",\n",
      "+      \"\\n\",\n",
      "+      \"Changes to be committed:\\n\",\n",
      "+      \"  (use \\\"git rm --cached <file>...\\\" to unstage)\\n\",\n",
      "+      \"\\tnew file:   README.md\\n\",\n",
      "+      \"\\n\",\n",
      "+      \"Changes not staged for commit:\\n\",\n",
      "+      \"  (use \\\"git add <file>...\\\" to update what will be committed)\\n\",\n",
      "+      \"  (use \\\"git restore <file>...\\\" to discard changes in working directory)\\n\",\n",
      "+      \"\\tmodified:   README.md\\n\",\n",
      "+      \"\\n\",\n",
      "+      \"Untracked files:\\n\",\n",
      "+      \"  (use \\\"git add <file>...\\\" to include in what will be committed)\\n\",\n",
      "+      \"\\t.ipynb_checkpoints/\\n\",\n",
      "+      \"\\tGit.ipynb\\n\",\n",
      "+      \"\\n\"\n",
      "+     ]\n",
      "+    }\n",
      "+   ],\n",
      "+   \"source\": [\n",
      "+    \"!git status\"\n",
      "+   ]\n",
      "+  },\n",
      "+  {\n",
      "+   \"cell_type\": \"code\",\n",
      "+   \"execution_count\": 47,\n",
      "+   \"metadata\": {},\n",
      "+   \"outputs\": [\n",
      "+    {\n",
      "+     \"name\": \"stderr\",\n",
      "+     \"output_type\": \"stream\",\n",
      "+     \"text\": [\n",
      "+      \"'cat' is not recognized as an internal or external command,\\n\",\n",
      "+      \"operable program or batch file.\\n\"\n",
      "+     ]\n",
      "+    }\n",
      "+   ],\n",
      "+   \"source\": [\n",
      "+    \"!cat README.md\"\n",
      "+   ]\n",
      "+  },\n",
      "+  {\n",
      "+   \"cell_type\": \"code\",\n",
      "+   \"execution_count\": 48,\n",
      "+   \"metadata\": {},\n",
      "+   \"outputs\": [\n",
      "+    {\n",
      "+     \"name\": \"stdout\",\n",
      "+     \"output_type\": \"stream\",\n",
      "+     \"text\": [\n",
      "+      \" Volume in drive C has no label.\\n\",\n",
      "+      \" Volume Serial Number is A8BB-EA2E\\n\",\n",
      "+      \"\\n\",\n",
      "+      \" Directory of C:\\\\Users\\\\satish\\\\Desktop\\\\git_intro\\n\",\n",
      "+      \"\\n\",\n",
      "+      \"03-Jan-21  10:01 AM    <DIR>          .\\n\",\n",
      "+      \"03-Jan-21  10:01 AM    <DIR>          ..\\n\",\n",
      "+      \"03-Jan-21  08:33 AM    <DIR>          .ipynb_checkpoints\\n\",\n",
      "+      \"03-Jan-21  10:01 AM            12,624 Git.ipynb\\n\",\n",
      "+      \"03-Jan-21  10:01 AM               368 README.md\\n\",\n",
      "+      \"               2 File(s)         12,992 bytes\\n\",\n",
      "+      \"               3 Dir(s)  19,370,983,424 bytes free\\n\"\n",
      "+     ]\n",
      "+    }\n",
      "+   ],\n",
      "+   \"source\": [\n",
      "+    \"ls\"\n",
      "+   ]\n",
      "+  },\n",
      "+  {\n",
      "+   \"cell_type\": \"code\",\n",
      "+   \"execution_count\": 49,\n",
      "+   \"metadata\": {},\n",
      "+   \"outputs\": [\n",
      "+    {\n",
      "+     \"name\": \"stdout\",\n",
      "+     \"output_type\": \"stream\",\n",
      "+     \"text\": [\n",
      "+      \"On branch master\\n\",\n",
      "+      \"\\n\",\n",
      "+      \"No commits yet\\n\",\n",
      "+      \"\\n\",\n",
      "+      \"Changes to be committed:\\n\",\n",
      "+      \"  (use \\\"git rm --cached <file>...\\\" to unstage)\\n\",\n",
      "+      \"\\tnew file:   README.md\\n\",\n",
      "+      \"\\n\",\n",
      "+      \"Changes not staged for commit:\\n\",\n",
      "+      \"  (use \\\"git add <file>...\\\" to update what will be committed)\\n\",\n",
      "+      \"  (use \\\"git restore <file>...\\\" to discard changes in working directory)\\n\",\n",
      "+      \"\\tmodified:   README.md\\n\",\n",
      "+      \"\\n\",\n",
      "+      \"Untracked files:\\n\",\n",
      "+      \"  (use \\\"git add <file>...\\\" to include in what will be committed)\\n\",\n",
      "+      \"\\t.ipynb_checkpoints/\\n\",\n",
      "+      \"\\tGit.ipynb\\n\",\n",
      "+      \"\\n\"\n",
      "+     ]\n",
      "+    }\n",
      "+   ],\n",
      "+   \"source\": [\n",
      "+    \"!git status\"\n",
      "+   ]\n",
      "+  },\n",
      "+  {\n",
      "+   \"cell_type\": \"code\",\n",
      "+   \"execution_count\": 50,\n",
      "+   \"metadata\": {},\n",
      "+   \"outputs\": [\n",
      "+    {\n",
      "+     \"name\": \"stdout\",\n",
      "+     \"output_type\": \"stream\",\n",
      "+     \"text\": [\n",
      "+      \"diff --git a/README.md b/README.md\\n\",\n",
      "+      \"index f886bff..6c9845a 100644\\n\",\n",
      "+      \"Binary files a/README.md and b/README.md differ\\n\"\n",
      "+     ]\n",
      "+    }\n",
      "+   ],\n",
      "+   \"source\": [\n",
      "+    \"!git diff README.md\"\n",
      "+   ]\n",
      "+  },\n",
      "+  {\n",
      "+   \"cell_type\": \"code\",\n",
      "+   \"execution_count\": 51,\n",
      "+   \"metadata\": {},\n",
      "+   \"outputs\": [],\n",
      "+   \"source\": [\n",
      "+    \"!git add README.md\"\n",
      "+   ]\n",
      "+  },\n",
      "+  {\n",
      "+   \"cell_type\": \"code\",\n",
      "+   \"execution_count\": 52,\n",
      "+   \"metadata\": {},\n",
      "+   \"outputs\": [\n",
      "+    {\n",
      "+     \"name\": \"stdout\",\n",
      "+     \"output_type\": \"stream\",\n",
      "+     \"text\": [\n",
      "+      \"On branch master\\n\",\n",
      "+      \"\\n\",\n",
      "+      \"No commits yet\\n\",\n",
      "+      \"\\n\",\n",
      "+      \"Changes to be committed:\\n\",\n",
      "+      \"  (use \\\"git rm --cached <file>...\\\" to unstage)\\n\",\n",
      "+      \"\\tnew file:   README.md\\n\",\n",
      "+      \"\\n\",\n",
      "+      \"Untracked files:\\n\",\n",
      "+      \"  (use \\\"git add <file>...\\\" to include in what will be committed)\\n\",\n",
      "+      \"\\t.ipynb_checkpoints/\\n\",\n",
      "+      \"\\tGit.ipynb\\n\",\n",
      "+      \"\\n\"\n",
      "+     ]\n",
      "+    }\n",
      "+   ],\n",
      "+   \"source\": [\n",
      "+    \"!git status\"\n",
      "+   ]\n",
      "+  },\n",
      "+  {\n",
      "+   \"cell_type\": \"code\",\n",
      "+   \"execution_count\": 57,\n",
      "+   \"metadata\": {},\n",
      "+   \"outputs\": [],\n",
      "+   \"source\": [\n",
      "+    \"!notepad add.py\"\n",
      "+   ]\n",
      "+  },\n",
      "+  {\n",
      "+   \"cell_type\": \"code\",\n",
      "+   \"execution_count\": 58,\n",
      "+   \"metadata\": {},\n",
      "+   \"outputs\": [\n",
      "+    {\n",
      "+     \"name\": \"stdout\",\n",
      "+     \"output_type\": \"stream\",\n",
      "+     \"text\": [\n",
      "+      \" Volume in drive C has no label.\\n\",\n",
      "+      \" Volume Serial Number is A8BB-EA2E\\n\",\n",
      "+      \"\\n\",\n",
      "+      \" Directory of C:\\\\Users\\\\satish\\\\Desktop\\\\git_intro\\n\",\n",
      "+      \"\\n\",\n",
      "+      \"03-Jan-21  10:09 AM    <DIR>          .\\n\",\n",
      "+      \"03-Jan-21  10:09 AM    <DIR>          ..\\n\",\n",
      "+      \"03-Jan-21  08:33 AM    <DIR>          .ipynb_checkpoints\\n\",\n",
      "+      \"03-Jan-21  10:08 AM                69 add.py\\n\",\n",
      "+      \"03-Jan-21  10:09 AM            13,520 Git.ipynb\\n\",\n",
      "+      \"03-Jan-21  10:01 AM               368 README.md\\n\",\n",
      "+      \"               3 File(s)         13,957 bytes\\n\",\n",
      "+      \"               3 Dir(s)  19,371,966,464 bytes free\\n\"\n",
      "+     ]\n",
      "+    }\n",
      "+   ],\n",
      "+   \"source\": [\n",
      "+    \"ls\"\n",
      "+   ]\n",
      "+  },\n",
      "+  {\n",
      "+   \"cell_type\": \"code\",\n",
      "+   \"execution_count\": 62,\n",
      "+   \"metadata\": {},\n",
      "+   \"outputs\": [],\n",
      "+   \"source\": [\n",
      "+    \"!git add .\"\n",
      "+   ]\n",
      "+  },\n",
      "+  {\n",
      "+   \"cell_type\": \"code\",\n",
      "+   \"execution_count\": 63,\n",
      "+   \"metadata\": {},\n",
      "+   \"outputs\": [\n",
      "+    {\n",
      "+     \"name\": \"stdout\",\n",
      "+     \"output_type\": \"stream\",\n",
      "+     \"text\": [\n",
      "+      \"On branch master\\n\",\n",
      "+      \"\\n\",\n",
      "+      \"No commits yet\\n\",\n",
      "+      \"\\n\",\n",
      "+      \"Changes to be committed:\\n\",\n",
      "+      \"  (use \\\"git rm --cached <file>...\\\" to unstage)\\n\",\n",
      "+      \"\\tnew file:   .ipynb_checkpoints/Git-checkpoint.ipynb\\n\",\n",
      "+      \"\\tnew file:   Git.ipynb\\n\",\n",
      "+      \"\\tnew file:   README.md\\n\",\n",
      "+      \"\\tnew file:   add.py\\n\",\n",
      "+      \"\\n\"\n",
      "+     ]\n",
      "+    }\n",
      "+   ],\n",
      "+   \"source\": [\n",
      "+    \"!git status\"\n",
      "+   ]\n",
      "+  },\n",
      "+  {\n",
      "+   \"cell_type\": \"code\",\n",
      "+   \"execution_count\": 66,\n",
      "+   \"metadata\": {},\n",
      "+   \"outputs\": [\n",
      "+    {\n",
      "+     \"name\": \"stderr\",\n",
      "+     \"output_type\": \"stream\",\n",
      "+     \"text\": [\n",
      "+      \"'cat' is not recognized as an internal or external command,\\n\",\n",
      "+      \"operable program or batch file.\\n\"\n",
      "+     ]\n",
      "+    }\n",
      "+   ],\n",
      "+   \"source\": [\n",
      "+    \"!cat add.py\"\n",
      "+   ]\n",
      "+  },\n",
      "+  {\n",
      "+   \"cell_type\": \"code\",\n",
      "+   \"execution_count\": 67,\n",
      "+   \"metadata\": {},\n",
      "+   \"outputs\": [\n",
      "+    {\n",
      "+     \"name\": \"stderr\",\n",
      "+     \"output_type\": \"stream\",\n",
      "+     \"text\": [\n",
      "+      \"'cat' is not recognized as an internal or external command,\\n\",\n",
      "+      \"operable program or batch file.\\n\"\n",
      "+     ]\n",
      "+    }\n",
      "+   ],\n",
      "+   \"source\": [\n",
      "+    \"!cat add.py\"\n",
      "+   ]\n",
      "+  },\n",
      "+  {\n",
      "+   \"cell_type\": \"code\",\n",
      "+   \"execution_count\": null,\n",
      "+   \"metadata\": {},\n",
      "+   \"outputs\": [],\n",
      "+   \"source\": []\n",
      "+  }\n",
      "+ ],\n",
      "+ \"metadata\": {\n",
      "+  \"kernelspec\": {\n",
      "+   \"display_name\": \"Python 3\",\n",
      "+   \"language\": \"python\",\n",
      "+   \"name\": \"python3\"\n",
      "+  },\n",
      "+  \"language_info\": {\n",
      "+   \"codemirror_mode\": {\n",
      "+    \"name\": \"ipython\",\n",
      "+    \"version\": 3\n",
      "+   },\n",
      "+   \"file_extension\": \".py\",\n",
      "+   \"mimetype\": \"text/x-python\",\n",
      "+   \"name\": \"python\",\n",
      "+   \"nbconvert_exporter\": \"python\",\n",
      "+   \"pygments_lexer\": \"ipython3\",\n",
      "+   \"version\": \"3.8.3\"\n",
      "+  }\n",
      "+ },\n",
      "+ \"nbformat\": 4,\n",
      "+ \"nbformat_minor\": 4\n",
      "+}\n",
      "diff --git a/README.md b/README.md\n",
      "new file mode 100644\n",
      "index 0000000..6c9845a\n",
      "Binary files /dev/null and b/README.md differ\n",
      "diff --git a/add.py b/add.py\n",
      "new file mode 100644\n",
      "index 0000000..b212c04\n",
      "--- /dev/null\n",
      "+++ b/add.py\n",
      "@@ -0,0 +1,7 @@\n",
      "+\"\"\"add.py simple addition program\"\"\"\n",
      "+\n",
      "+x = int(input(\"Enter x: \"))\n",
      "+\n",
      "+y = int(input(\"Enter y: \"))\n",
      "+\n",
      "+print(f\"{x} + {y} = {x + y}.\")\n",
      "\\ No newline at end of file\n"
     ]
    }
   ],
   "source": [
    "!git show v.1.0"
   ]
  },
  {
   "cell_type": "code",
   "execution_count": 87,
   "metadata": {},
   "outputs": [
    {
     "name": "stdout",
     "output_type": "stream",
     "text": [
      "Reinitialized existing Git repository in C:/Users/satish/Desktop/git_intro/.git/\n"
     ]
    }
   ],
   "source": [
    "!git init ."
   ]
  },
  {
   "cell_type": "code",
   "execution_count": null,
   "metadata": {},
   "outputs": [],
   "source": []
  }
 ],
 "metadata": {
  "kernelspec": {
   "display_name": "Python 3",
   "language": "python",
   "name": "python3"
  },
  "language_info": {
   "codemirror_mode": {
    "name": "ipython",
    "version": 3
   },
   "file_extension": ".py",
   "mimetype": "text/x-python",
   "name": "python",
   "nbconvert_exporter": "python",
   "pygments_lexer": "ipython3",
   "version": "3.8.3"
  }
 },
 "nbformat": 4,
 "nbformat_minor": 4
}
